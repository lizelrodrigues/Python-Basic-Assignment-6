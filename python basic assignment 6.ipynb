{
 "cells": [
  {
   "cell_type": "code",
   "execution_count": null,
   "id": "57348ef3",
   "metadata": {},
   "outputs": [],
   "source": [
    "#Python Basic Assignment 6"
   ]
  },
  {
   "cell_type": "markdown",
   "id": "4c582e30",
   "metadata": {},
   "source": [
    "1.What are escape characters, and how do you use them?"
   ]
  },
  {
   "cell_type": "code",
   "execution_count": null,
   "id": "346db153",
   "metadata": {},
   "outputs": [],
   "source": [
    "#ANS:An escape character lets you use characters that are otherwise impossible to put into a string. \n",
    "#    We use them by adding a backslash (\\) followed by the character you want to add to the string.\n",
    "# \\n -for newline\n",
    "# \\t -for tab in the text\n",
    "# \\b -to insert backspace in the text\n",
    "# \\' -to insert single quote\n",
    "# \\\" -to insert double quote\n",
    "# \\\\ -to insert backslash character"
   ]
  },
  {
   "cell_type": "markdown",
   "id": "9b70a34d",
   "metadata": {},
   "source": [
    "2.What do the escape characters n and t stand for?"
   ]
  },
  {
   "cell_type": "code",
   "execution_count": null,
   "id": "064c237b",
   "metadata": {},
   "outputs": [],
   "source": [
    "#The escape characters n and t stand for newline and tab.\n",
    "# \\n -for newline\n",
    "# \\t -for tab in the text"
   ]
  },
  {
   "cell_type": "markdown",
   "id": "34da916b",
   "metadata": {},
   "source": [
    "3.What is the way to include backslash characters in a string?"
   ]
  },
  {
   "cell_type": "code",
   "execution_count": null,
   "id": "1fb4ec0a",
   "metadata": {},
   "outputs": [],
   "source": [
    "#To put a backslash into a string, we need to code two backslashes, where \\: Backslash ()\n",
    "# \\\\ -to insert backslash character"
   ]
  },
  {
   "cell_type": "markdown",
   "id": "1c3cb1ef",
   "metadata": {},
   "source": [
    "4.The string \"Howl's Moving Castle\" is a correct value. Why isn't the single quote character in the word Howl's not escaped a problem?"
   ]
  },
  {
   "cell_type": "code",
   "execution_count": null,
   "id": "ae8995fb",
   "metadata": {},
   "outputs": [],
   "source": [
    "#Ans:Since the string begins with a double quote, Python knows that the single quote is part of the string \n",
    "#    and does not consider it as the end of the string."
   ]
  },
  {
   "cell_type": "markdown",
   "id": "7a6bd239",
   "metadata": {},
   "source": [
    "5.How do you write a string of newlines if you don't want to use the n character?"
   ]
  },
  {
   "cell_type": "code",
   "execution_count": null,
   "id": "3148c634",
   "metadata": {},
   "outputs": [],
   "source": [
    "#Ans: Python print statement prints all the statements by default in a new line. We can also triple-quote the string."
   ]
  },
  {
   "cell_type": "markdown",
   "id": "2f0c7c2a",
   "metadata": {},
   "source": [
    "6.What are the values of the given expressions?"
   ]
  },
  {
   "cell_type": "code",
   "execution_count": 2,
   "id": "bf98e241",
   "metadata": {},
   "outputs": [
    {
     "data": {
      "text/plain": [
       "'e'"
      ]
     },
     "execution_count": 2,
     "metadata": {},
     "output_type": "execute_result"
    }
   ],
   "source": [
    "'Hello,world!'[1] "
   ]
  },
  {
   "cell_type": "code",
   "execution_count": 3,
   "id": "e298d971",
   "metadata": {},
   "outputs": [
    {
     "data": {
      "text/plain": [
       "'Hello'"
      ]
     },
     "execution_count": 3,
     "metadata": {},
     "output_type": "execute_result"
    }
   ],
   "source": [
    "'Hello,world!'[0:5]  "
   ]
  },
  {
   "cell_type": "code",
   "execution_count": 4,
   "id": "ff996b9f",
   "metadata": {},
   "outputs": [
    {
     "data": {
      "text/plain": [
       "'Hello'"
      ]
     },
     "execution_count": 4,
     "metadata": {},
     "output_type": "execute_result"
    }
   ],
   "source": [
    "'Hello,world!'[:5]  "
   ]
  },
  {
   "cell_type": "code",
   "execution_count": 5,
   "id": "8ca6aa4c",
   "metadata": {},
   "outputs": [
    {
     "data": {
      "text/plain": [
       "'lo,world!'"
      ]
     },
     "execution_count": 5,
     "metadata": {},
     "output_type": "execute_result"
    }
   ],
   "source": [
    "'Hello,world!'[3:] "
   ]
  },
  {
   "cell_type": "markdown",
   "id": "2dd7a239",
   "metadata": {},
   "source": [
    "7.What are the values of the following expressions?"
   ]
  },
  {
   "cell_type": "code",
   "execution_count": 7,
   "id": "a496e41d",
   "metadata": {},
   "outputs": [
    {
     "data": {
      "text/plain": [
       "'HELLO'"
      ]
     },
     "execution_count": 7,
     "metadata": {},
     "output_type": "execute_result"
    }
   ],
   "source": [
    "\"Hello\".upper()    "
   ]
  },
  {
   "cell_type": "code",
   "execution_count": 8,
   "id": "f1cd298d",
   "metadata": {},
   "outputs": [
    {
     "data": {
      "text/plain": [
       "True"
      ]
     },
     "execution_count": 8,
     "metadata": {},
     "output_type": "execute_result"
    }
   ],
   "source": [
    "\"Hello\".upper().isupper()"
   ]
  },
  {
   "cell_type": "code",
   "execution_count": 9,
   "id": "097dc8a9",
   "metadata": {},
   "outputs": [
    {
     "data": {
      "text/plain": [
       "'hello'"
      ]
     },
     "execution_count": 9,
     "metadata": {},
     "output_type": "execute_result"
    }
   ],
   "source": [
    "\"Hello\".upper().lower()"
   ]
  },
  {
   "cell_type": "markdown",
   "id": "34736297",
   "metadata": {},
   "source": [
    "8.What are the values of the following expressions?"
   ]
  },
  {
   "cell_type": "code",
   "execution_count": 10,
   "id": "0bf10845",
   "metadata": {},
   "outputs": [
    {
     "data": {
      "text/plain": [
       "['Remember,', 'remember,', 'the', 'fifth', 'of', 'July.']"
      ]
     },
     "execution_count": 10,
     "metadata": {},
     "output_type": "execute_result"
    }
   ],
   "source": [
    "\"Remember, remember, the fifth of July.\".split()"
   ]
  },
  {
   "cell_type": "code",
   "execution_count": 11,
   "id": "5135d659",
   "metadata": {},
   "outputs": [
    {
     "data": {
      "text/plain": [
       "'There-can-only-one.'"
      ]
     },
     "execution_count": 11,
     "metadata": {},
     "output_type": "execute_result"
    }
   ],
   "source": [
    "'-'.join('There can only one.'.split()) "
   ]
  },
  {
   "cell_type": "markdown",
   "id": "e26a4b13",
   "metadata": {},
   "source": [
    "9.What are the methods for right-justifying, left-justifying, and centering a string?"
   ]
  },
  {
   "cell_type": "markdown",
   "id": "3c7b0718",
   "metadata": {},
   "source": [
    "Ans:The methods for right-justifying, left-justifying, and centering a string rjust(), ljust(), center().\n",
    "str.ljust(s, width[, fillchar])\n",
    "str.rjust(s, width[, fillchar])\n",
    "str.center(s, width[, fillchar])"
   ]
  },
  {
   "cell_type": "markdown",
   "id": "b3f600e6",
   "metadata": {},
   "source": [
    "10.What is the best way to remove whitespace characters from the start or end?"
   ]
  },
  {
   "cell_type": "code",
   "execution_count": null,
   "id": "bbcd65b0",
   "metadata": {},
   "outputs": [],
   "source": [
    "#Ans: Use lstrip to remove whitespace from the beginning of the string.\n",
    "#     Use rstrip to remove whitespace from the end of the string."
   ]
  }
 ],
 "metadata": {
  "kernelspec": {
   "display_name": "Python 3 (ipykernel)",
   "language": "python",
   "name": "python3"
  },
  "language_info": {
   "codemirror_mode": {
    "name": "ipython",
    "version": 3
   },
   "file_extension": ".py",
   "mimetype": "text/x-python",
   "name": "python",
   "nbconvert_exporter": "python",
   "pygments_lexer": "ipython3",
   "version": "3.9.7"
  }
 },
 "nbformat": 4,
 "nbformat_minor": 5
}
